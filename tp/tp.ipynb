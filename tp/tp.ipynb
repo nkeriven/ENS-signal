{
 "cells": [
  {
   "cell_type": "markdown",
   "metadata": {},
   "source": [
    "# Introduction au traitement du signal \n",
    "# Travaux Pratiques 2\n",
    "\n",
    ">**L'objectif de ce TP est d’illustrer le cours sur la théorie de l’échantillonnage, le théorème de Shannon et les aspects pratiques de la transformée de Fourier. Nous nous intéresserons en particulier aux signaux sonores (à bande limitée).**"
   ]
  },
  {
   "cell_type": "code",
   "execution_count": null,
   "metadata": {},
   "outputs": [],
   "source": [
    "from __future__ import division\n",
    "\n",
    "import warnings\n",
    "warnings.filterwarnings('ignore')\n",
    "\n",
    "\n",
    "import pylab as pyl\n",
    "import numpy as np\n",
    "import scipy as scp\n",
    "import matplotlib.pyplot as plt\n",
    "\n",
    "    # Import custom functions\n",
    "import utils\n",
    "\n",
    "    # Import audio tools\n",
    "from IPython.display import Audio\n",
    "\n",
    "\n",
    "import scipy as scp\n",
    "\n",
    "    # Plot figure inside notebook\n",
    "%pylab inline\n",
    "\n",
    "    # For external code\n",
    "%load_ext autoreload\n",
    "%autoreload 2"
   ]
  },
  {
   "cell_type": "markdown",
   "metadata": {},
   "source": [
    "## Partie 0 : Transformée de Fourier, échantillonnage et repliement"
   ]
  },
  {
   "cell_type": "markdown",
   "metadata": {},
   "source": [
    "On travaille avec des signaux à bande limitée par $F_{max} = 2000$ Hz que l'on étudie sur une durée $T = 1$s . On considère la somme de 2 signaux sinusoidaux $s_1(t)$ de fréquence $f_1 = F_{max}/10$ et $s_2(t)$ de fréquence $f_2 = 10/13 * F_{max}$. \n",
    "\n",
    "Soit $s(t) = s_1(t) + s_2(t)$. Le but de cette partie est de mettre en évidence les conséquences d'un échantillonnage adapté ou non au contenu du signal (présence d'aliasing lorsque $F_e$ est trop faible)."
   ]
  },
  {
   "cell_type": "code",
   "execution_count": null,
   "metadata": {},
   "outputs": [],
   "source": [
    "Fmax = 2000   # bande de frequence des signaux utilises\n",
    "T = 1         # duree du signal"
   ]
  },
  {
   "cell_type": "markdown",
   "metadata": {},
   "source": [
    "On considère des versions \"continues\" (suréchantillonnées) de ces\n",
    "signaux qui serviront de référence théorique dans les représentations graphiques "
   ]
  },
  {
   "cell_type": "code",
   "execution_count": null,
   "metadata": {},
   "outputs": [],
   "source": [
    "Fmax= 2000\n",
    "Fec = Fmax*50 # very high frequency, \"continuous\"\n",
    "t   = np.linspace(0,1.0,num=Fec)  # pour définir une liste de 50*Fmax*T échantillons de 0 à T\n",
    "s1 = 0.5*np.cos(2*np.pi*Fmax/10*t)    # valeurs de s1 aux instants t\n",
    "s2 = 0.5*np.cos(2*np.pi*10*Fmax/13*t) #  valeurs de s2 aux instants t\n",
    "s  = s1 + s2"
   ]
  },
  {
   "cell_type": "markdown",
   "metadata": {},
   "source": [
    "On va écouter maintenant les sons : s1, s2, s.\n",
    "\n",
    "Pour cela, IPython.display.Audio vous permet de lire de l'audio directement dans un notebook IPython. https://ipython.readthedocs.io/en/stable/api/generated/IPython.display.html#module-IPython.display"
   ]
  },
  {
   "cell_type": "markdown",
   "metadata": {},
   "source": [
    " **Instruction :** Écoutez le signal avec le $rate$ Fec défini ci-dessus."
   ]
  },
  {
   "cell_type": "code",
   "execution_count": null,
   "metadata": {},
   "outputs": [],
   "source": [
    "# Coder ici"
   ]
  },
  {
   "cell_type": "markdown",
   "metadata": {},
   "source": [
    "### 0.1 Echantillonner sans aliasing (repliement)\n",
    "\n",
    "On échantillonne tout d'abord les signaux avec une fréquence d'échantillonnage $F_{e1} = 2F_{max}$ "
   ]
  },
  {
   "cell_type": "code",
   "execution_count": null,
   "metadata": {},
   "outputs": [],
   "source": [
    "Fe1  = 2*Fmax                      # 1ere frequence d'echantillonnage \n",
    "te   = np.linspace(0,T,num=Fe1*T)  # pour définir une liste de Fe1*T échantillons de 0 à T\n",
    "s1e  = 0.5*np.cos(2*np.pi*Fmax/10*te)        # valeurs de x1 aux instants t\n",
    "s2e  = 0.5*np.cos(2*np.pi*10*Fmax/13*te)     # valeurs de x2 aux instants t\n",
    "se   = s1e + s2e"
   ]
  },
  {
   "cell_type": "markdown",
   "metadata": {},
   "source": [
    "On peut alors écouter les versions échantillonnées comparée à sa version (quasi) continue \n",
    "\n",
    " **Instruction :** Écoutez le signal à la fréquence d'échantillonnage $Fe_1$ définie ci-dessus."
   ]
  },
  {
   "cell_type": "code",
   "execution_count": null,
   "metadata": {},
   "outputs": [],
   "source": [
    "# Coder ici\n"
   ]
  },
  {
   "cell_type": "markdown",
   "metadata": {},
   "source": [
    "On trace maintenant ces signaux (version quasi continue et échantillonnée).\n",
    "\n",
    "Pour cela, on ne représente graphiquement que sur **une durée de $0.005$s au lieu de $1$s**."
   ]
  },
  {
   "cell_type": "code",
   "execution_count": null,
   "metadata": {},
   "outputs": [],
   "source": [
    "tmax = 0.005\n",
    "ind  = np.where(t<tmax)       # pour extraire les indices des instants t<tmax \n",
    "ind_e  = np.where(te<tmax)    # pour extraire les indices des instants te<tmax\n",
    "\n",
    "plt.figure(figsize = (10,11))  \n",
    "plt.subplot(3,1,1)              \n",
    "plt.plot(t[ind],s1[ind],'--')   # version interpolée continue\n",
    "plt.stem(te[ind_e],s1e[ind_e])  # version échantillonnée\n",
    "plt.xlim((0,0.005))\n",
    "plt.title('s1 pour Fe1 = 2*Fmax')\n",
    "\n",
    "plt.subplot(3,1,2)\n",
    "#Coder ici pour tracer s2            \n",
    "\n",
    "plt.subplot(3,1,3)\n",
    "#Coder ici pour tracer s=s1+s2\n"
   ]
  },
  {
   "cell_type": "markdown",
   "metadata": {},
   "source": [
    "**Question :**\n",
    "- Que constatez-vous ? Expliquez pourquoi."
   ]
  },
  {
   "cell_type": "markdown",
   "metadata": {},
   "source": [
    "On veut maintenant afficher le signal dans les domaines fréquenciel.\n",
    "\n",
    "**Instruction :**\n",
    "Pour cela, dans le fichier $utils.py$, implémentez :\n",
    "\n",
    "- une fonction $fourier\\_transform$ qui prend comme entrées un signal et une fréquence d'échantillonnage et renvoie comme sortie sa transformée de Fourier centrée sur $0$, un vecteur des fréquences allant de $-\\frac{Fe}{2}$ à $\\frac{Fe}{2}$ nécessaire à cette transformée de Fourier. (Hint: utilisez le module fft de scipy)\n",
    "\n",
    "- une fonction $fourier\\_transform\\_positif$ qui prend comme entrées un signal et une fréquence d'échantillonnage et renvoie comme sortie sa transformée de Fourier dans la partie fréquence positive entre $0$ et $Fe$, un vecteur des fréquences allant de $0$ à $Fe$ nécessaire à cette transformée de Fourier."
   ]
  },
  {
   "cell_type": "markdown",
   "metadata": {},
   "source": [
    "**Instruction :**\n",
    "Illustrez la tranformée de Fourier du signal $s_{1e}$ :\n",
    "- centrée sur 0 allant de $-\\frac{Fe_1}{2}$ à $\\frac{Fe_1}{2}$\n",
    "- entre 0 et $Fe_1$"
   ]
  },
  {
   "cell_type": "code",
   "execution_count": null,
   "metadata": {},
   "outputs": [],
   "source": [
    "#Coder ici\n",
    "\n"
   ]
  },
  {
   "cell_type": "markdown",
   "metadata": {},
   "source": [
    "**Question :**\n",
    "- Que représentent les pics dans les graphiques? \n",
    "- Que représente le pic à droite sur la graphique illustrée la transformée de Fourier dans la partie fréquence positive entre $0$ et $Fe$ ? Que faudrait-il ajouter au signal pour le faire disparaître ? tester."
   ]
  },
  {
   "cell_type": "markdown",
   "metadata": {},
   "source": [
    "**Instruction :**\n",
    "Illustrez maintenent la tranformée de Fourier du signal $s_{e}$ centrée à $0$"
   ]
  },
  {
   "cell_type": "code",
   "execution_count": null,
   "metadata": {},
   "outputs": [],
   "source": [
    "#Coder ici\n"
   ]
  },
  {
   "cell_type": "markdown",
   "metadata": {},
   "source": [
    "**Question :**\n",
    "Que constatez-vous ? Expliquer."
   ]
  },
  {
   "cell_type": "markdown",
   "metadata": {},
   "source": [
    "### 0.2 Echantillonner avec aliasing (repliement)\n",
    "\n",
    "On choisit maintenant d'utiliser la fréquence d'échantillonnage $Fe_2 = F_{max} = 2000$ Hz. On construit les nouvelles versions des signaux $s_1$, $s_2$ et $s$ échantillonnés à cette fréquence."
   ]
  },
  {
   "cell_type": "code",
   "execution_count": null,
   "metadata": {},
   "outputs": [],
   "source": [
    "Fe2   = Fmax                        # frequence d'echantillonnage Shannon\n",
    "tbis  = np.linspace(0,T,num=Fe2*T)  # pour définir une liste de Fe2*T échantillons de 0 à T\n",
    "s1ebis = 0.5*np.sin(2*np.pi*Fmax/10*tbis)        # valeurs de x1 aux instants t\n",
    "s2ebis = 0.5*np.sin(2*np.pi*10*Fmax/13*tbis)     # valeurs de x2 aux instants t\n",
    "sebis  = s1ebis + s2ebis"
   ]
  },
  {
   "cell_type": "markdown",
   "metadata": {},
   "source": [
    " **Instruction :** \n",
    " - Écoutez les signal à la fréquence d'échantillonnage $Fe_2$ définie ci-dessus.\n",
    " - Comparez avec les versions précédentes. Que constatez-vous ?"
   ]
  },
  {
   "cell_type": "code",
   "execution_count": null,
   "metadata": {},
   "outputs": [],
   "source": [
    "#Coder ici\n"
   ]
  },
  {
   "cell_type": "markdown",
   "metadata": {},
   "source": [
    "**Instruction :**\n",
    "Illustrez maintenent la tranformée de Fourier du signal $s_{ebis}$ centrée à $0$.\n"
   ]
  },
  {
   "cell_type": "code",
   "execution_count": null,
   "metadata": {},
   "outputs": [],
   "source": [
    "#Coder ici\n",
    "\n"
   ]
  },
  {
   "cell_type": "markdown",
   "metadata": {},
   "source": [
    "**Question :**\n",
    "Que constatez-vous ? Expliquer pourquoi."
   ]
  },
  {
   "cell_type": "markdown",
   "metadata": {},
   "source": [
    "## Partie 1 : Fréquence d'échantillonnage à l’acquisition ou à la lecture"
   ]
  },
  {
   "cell_type": "markdown",
   "metadata": {},
   "source": [
    "### Charger, écouter, afficher un signal\n",
    "Les signaux sonores sont des vecteurs 1D. \n",
    "\n",
    "Pour lire un signal : la fonction $load\\_sound$ dans $utils.py$  mise à votre disposition permet de charger\n",
    "simplement un certain nombre de signaux.\n",
    "\n",
    "La liste des signaux disponibles dans le dossier *audio* est: \n",
    "- bird.wav\n",
    "- glockenspiel.wav \n",
    "- female.wav\n",
    "- male.wav\n"
   ]
  },
  {
   "cell_type": "code",
   "execution_count": null,
   "metadata": {},
   "outputs": [],
   "source": [
    "############## NE PAS MODIFIER #################\n",
    "n = 2**15   # nombre d'échantillons                                      \n",
    "################################################"
   ]
  },
  {
   "cell_type": "markdown",
   "metadata": {},
   "source": [
    "**Instruction :** chargez les n=$2^{15}$ premiers échantillons du signal son \"bird\" en utilisant la fonction 𝑙𝑜𝑎𝑑_𝑠𝑜𝑢𝑛𝑑"
   ]
  },
  {
   "cell_type": "code",
   "execution_count": null,
   "metadata": {},
   "outputs": [],
   "source": [
    "# Coder ici\n"
   ]
  },
  {
   "cell_type": "code",
   "execution_count": null,
   "metadata": {},
   "outputs": [],
   "source": [
    "############## NE PAS MODIFIER #################\n",
    "Fe = 15000   # fréquence d'échantillonnage                                          \n",
    "################################################"
   ]
  },
  {
   "cell_type": "markdown",
   "metadata": {},
   "source": [
    " **Instruction :** Écoutez maintenant le signal à la fréquence d'échantillonnage $Fe$ définie ci-dessus."
   ]
  },
  {
   "cell_type": "code",
   "execution_count": null,
   "metadata": {},
   "outputs": [],
   "source": [
    "#Coder ici\n",
    "\n",
    "\n"
   ]
  },
  {
   "cell_type": "markdown",
   "metadata": {},
   "source": [
    "**Questions :**\n",
    "- À quoi correspond le paramètre $Fe$ ?\n",
    "- Que se passe-t-il lorsqu’on diminue $Fe$ sans changer le signal ?\n",
    "\n"
   ]
  },
  {
   "cell_type": "markdown",
   "metadata": {},
   "source": [
    "**Instruction :** Écoutez le même signal en diminuant la fréquence d'échantillonnage par 3 par exemple. Vous pouvez également jouer en changeant le facteur de diminuation.\n"
   ]
  },
  {
   "cell_type": "code",
   "execution_count": null,
   "metadata": {},
   "outputs": [],
   "source": [
    "#Coder ici\n",
    "facteur = 3\n",
    "\n",
    "\n"
   ]
  },
  {
   "cell_type": "markdown",
   "metadata": {},
   "source": [
    "**Question :**\n",
    "- Que constatez-vous ? Expliquez pourquoi."
   ]
  },
  {
   "cell_type": "markdown",
   "metadata": {},
   "source": [
    "On veut maintenant afficher le signal dans les domaines temporel et fréquenciel.\n",
    "\n",
    "**Instruction :**\n",
    "Pour cela, dans le fichier $utils.py$, implémentez :\n",
    "\n",
    "- une fonction $define\\_times$ qui prend comme entrées le nombre d'échantillons et la fréquence d'échantillonnage et renvoie comme sortie un vecteur de temps associé.\n",
    "\n",
    "- une fonction $inverse\\_fourier\\_transform$ qui prend comme entrées la transformée de Fourier (centrée en 0) d'un signal et une fréquence échantillonnée et renvoie comme sortie le signal dans le domain de temps et un vecteur de temps associé à cette représentation temporelle."
   ]
  },
  {
   "cell_type": "markdown",
   "metadata": {},
   "source": [
    "**Instruction :** \n",
    "Illustrez : avec une fréquence d'échantillonnage $Fe$ puis $Fe/3$\n",
    "\n",
    "- Le signal chargé (dans le domaine temporel) avec le temps associé (lié à la fréquence d'échantillonnage), \n",
    "- La transformée de Fourier centrée en 0 du signal échantillonné,\n",
    "- La transformée de Fourier inverse. \n",
    "\n",
    "\n",
    "Faite le lien avec les observations de la question précédente."
   ]
  },
  {
   "cell_type": "code",
   "execution_count": null,
   "metadata": {},
   "outputs": [],
   "source": [
    "#Coder ici\n",
    "\n",
    "\n",
    "\n",
    "\n",
    "\n",
    "\n",
    "\n"
   ]
  },
  {
   "cell_type": "markdown",
   "metadata": {},
   "source": [
    "**Question :**\n",
    "\n",
    "Quelle manipulation proposez-vous sur le signal afin de corriger le phénomène observé tout en gardant la fréquence d'échantillonnage $Fe/3$?\n"
   ]
  },
  {
   "cell_type": "code",
   "execution_count": null,
   "metadata": {},
   "outputs": [],
   "source": [
    "# Coder ici\n",
    "\n",
    "\n"
   ]
  },
  {
   "cell_type": "markdown",
   "metadata": {},
   "source": [
    "## Partie 2 : Analyse par morceaux\n",
    "**OBJECTIF** : calculer la transformée de Fourier de différents segments du signal autour de plusieurs instants $n_k$ et la représenter en module pour mettre en évidence les variations du contenu fréquentiel du signal au cours du temps.\n",
    "Pour cela, nous considérons la transformée de Fourier du signal $s \\times w$ où $w$ est fonction fenêtre centrée sur $n_k$. "
   ]
  },
  {
   "cell_type": "markdown",
   "metadata": {},
   "source": [
    "### 2.1 Influence du type de fenêtre"
   ]
  },
  {
   "cell_type": "markdown",
   "metadata": {},
   "source": [
    "Nous analysons tout d'abord l'effet des deux fenêtres suivantes : \"porte\" et \"gaussienne\". Pour rappel, le TF d'une porte est un sincardinal et le TF d'une fonction Gaussienne définie par\n",
    "$$ x(t) = \\frac{1}{\\sqrt{2\\pi\\sigma^2}}e^{-t^2 / (2\\sigma^2)} $$\n",
    "est donnée par\n",
    "$$ \\mathcal{F}x(f) = e^{-2\\sigma^2\\pi^2 f^2} $$\n",
    "\n",
    "(Remarque: contrairement au cours, la transformée de Fourier est exprimée comme une fonction de la fréquence et non de la pulsation).\n",
    "\n"
   ]
  },
  {
   "cell_type": "markdown",
   "metadata": {},
   "source": [
    "**Instruction** : Représenter la TF d'un morceau du signal \"bird\" avec \n",
    "une largeur $L = 801$ échantillons centré sur $n_0=1000$.\n",
    "\n",
    "- Tout d'abord, le morceau en utilisant une porte\n",
    "- Ensuite le morceau en utilisant une gaussienne de $\\sigma = 200$"
   ]
  },
  {
   "cell_type": "code",
   "execution_count": null,
   "metadata": {},
   "outputs": [],
   "source": [
    "############## NE PAS MODIFIER ###############  \n",
    "N = 400                                     ##\n",
    "L=2*N+1                                     ##                                        \n",
    "##############################################"
   ]
  },
  {
   "cell_type": "code",
   "execution_count": null,
   "metadata": {},
   "outputs": [],
   "source": [
    "#Coder ici\n",
    "\n",
    "\n",
    "\n",
    "\n",
    "\n",
    "\n"
   ]
  },
  {
   "cell_type": "markdown",
   "metadata": {},
   "source": [
    "**Questions :**\n",
    "Que constatez-vous ? Expliquer pourquoi."
   ]
  },
  {
   "cell_type": "markdown",
   "metadata": {},
   "source": [
    "### 2.2 Influence de la largeur (durée) de la fenêtre\n",
    "En gardant le même nombre d'échantillons, afficher la fenêtre gaussienne pour différentes valeurs de sigma (50, 100 ,200 et 250) ainsi qu'un exemple de segment de signal  pour une localisation fixée.\n",
    "\n"
   ]
  },
  {
   "cell_type": "code",
   "execution_count": null,
   "metadata": {},
   "outputs": [],
   "source": [
    "# Coder ici \n",
    "\n",
    "\n",
    "\n",
    "\n",
    "\n",
    "\n",
    "\n",
    "\n",
    "\n"
   ]
  },
  {
   "cell_type": "markdown",
   "metadata": {},
   "source": [
    "**Question :**\n",
    "Que constatez-vous ? Expliquer pourquoi."
   ]
  },
  {
   "cell_type": "markdown",
   "metadata": {},
   "source": [
    "### 2.3 Analyse par morceaux\n",
    "\n",
    "**Instruction :**  Pour $\\sigma=200$, écrire une boucle **for** permettant de répéter l'analyse ci-dessus pour des segments de signal autour de plusieurs instants nk, par exemple de $nk=200$ à $nk=5000$ par pas de $200$. On représentera aussi tous ces spectres ensemble sur un seul et même graphique. "
   ]
  },
  {
   "cell_type": "code",
   "execution_count": null,
   "metadata": {},
   "outputs": [],
   "source": [
    "# Coder ici \n",
    "\n",
    "\n",
    "\n",
    "\n",
    "\n",
    "\n"
   ]
  },
  {
   "cell_type": "markdown",
   "metadata": {},
   "source": [
    "**Question :**\n",
    "Que remarquez-vous ? "
   ]
  },
  {
   "cell_type": "markdown",
   "metadata": {},
   "source": [
    "## Partie 3 :  Introduction à l'analyse temps-fréquence"
   ]
  },
  {
   "cell_type": "markdown",
   "metadata": {},
   "source": [
    "### 3.1 Transformée de Fourier à fenêtre : spectrogramme & reconstruction\n",
    "Pour obtenir une représentation qui permette de suivre l'évolution du contenu fréquentiel du signal au cours du temps, on définit la notion de _transformée de Fourier à fenêtre_, ou _Short Term Fourier Transform_ en anglais. Cette transformée possède $2$ indices, un pour l'instant sur lequel la fenêtre est centrée et un pour les fréquences.\n",
    "\n",
    "Schématiquement, on obtient la TF à fenêtre en rassemblant dans une même représentation les spectres calculés sur des segments de signal successifs. L'intérêt de cette représentation est de rassembler des transformées de Fourier locales (axe fréquentiel vertical) calculées sur des fenêtres temporelles régulièrement espacées (axe temporel horizontal) : en traduisant le carré de l'amplitude de cette TF à fenêtre par une échelle de couleur, on en déduit le **spectrogramme**. Le carré de l'amplitude de la transformée de Fourier à fenêtre s'interprète comme une densité d'énergie temps-fréquence.\n",
    "\n",
    "En général, les fenêtres se superposent en temps (overlap) ce qui entraîne une certaine redondance qui est aussi source d'une bonne lisibilité de l'information temps-fréquence. Cette représentation redondante peut s'inverser pour reconstruire le signal d'origine, on parle d'une _pseudo-inverse_.  On peut aussi montrer que l'énergie est conservée, ce que nous illustrerons numériquement. \n",
    "\n",
    "Les paramètres d'un spectrogramme sont le type de fenêtre choisi, la taille de la fenêtre  et le pas de temps entre 2 fenêtres successives. \n",
    "\n",
    "Ici, la fonction **perform_stft** fournie avec le TP permet de calculer simplement la transformée de Fourier à fenêtre (dite aussi \"à court terme\") d'un signal. \n",
    "\n",
    "La fonction **plot_spectrogram** fournit une représentation graphique dont l'axe vertical correspond aux fréquences (positives seules) échantillonnées entre $0$ et $Fe/2$ et l'axe horizontal aux échantillons temporels. \n",
    "\n",
    "Il faut noter que les transformées sont calculées sur des intervalles de temps de largeur |width| espacés régulièrement  tous les |spacing| échantillons. \n",
    "\n",
    "Voici un exemple :"
   ]
  },
  {
   "cell_type": "code",
   "execution_count": null,
   "metadata": {},
   "outputs": [],
   "source": [
    "from nt_toolbox.perform_stft import *\n",
    "from nt_toolbox.plot_spectrogram import *"
   ]
  },
  {
   "cell_type": "code",
   "execution_count": null,
   "metadata": {},
   "outputs": [],
   "source": [
    "############## NE PAS MODIFIER ###############\n",
    "n = 1024*16  # nombre d'échantillons        ##\n",
    "Fe = 15000   # Fréquence d'échantillonnage  ##\n",
    "s = utils.load_sound(\"audio/bird.wav\",n)    ##\n",
    "##############################################\n",
    "\n",
    "w = 128   #size of the window\n",
    "q = w//4  #overlap of the window\n",
    "\n",
    "S = perform_stft(s,w,q,n)\n",
    "plt.figure(figsize = (15,20))\n",
    "plot_spectrogram(S,\"Spectrogramme de bird\")\n",
    "plt.show()"
   ]
  },
  {
   "cell_type": "markdown",
   "metadata": {},
   "source": [
    "**Questions:** \n",
    "- Qu'obtenez-vous ? Expliquez en quelques phrases le spectrogramme obtenu.\n",
    "Expliquer à quoi correspondent les indices sur les axes horizontaux et verticaux du spectrogramme. \n",
    "- Comment doit-on les lire et les interpréter (préciser les unités de temps et de fréquence associées).\n",
    "- Essayez pour différentes valeurs de w (taille de fenêtre) : 128 et 512. Que constatez-vous ?"
   ]
  },
  {
   "cell_type": "markdown",
   "metadata": {},
   "source": [
    "### 3.2 L'introduction à la séparation des sources\n",
    "**OBJECTIF** : Nous avons deux sources de signal (ici les sons) qui se mélangent (par exemple, enregistrement par un micro).\n",
    "On obtient un signal observée (signal mélangée).\n",
    "A partir de ces données observées, on essaie de retrouver les signaux de différentes sources au départ."
   ]
  },
  {
   "cell_type": "markdown",
   "metadata": {},
   "source": [
    "**Instruction** :\n",
    "- Charger deux sources de son : \"bird\" et \"glockenspiel\".\n",
    "- Normaliser pour que les amplitudes soient sur la même échelle.\n",
    "- Mélanger les deux sources par le simple opérateur addition, on s'appelle le signal mélangé $y_{add}$ \n",
    "- Ecouter le signal mélangé $y_{add}"
   ]
  },
  {
   "cell_type": "code",
   "execution_count": null,
   "metadata": {},
   "outputs": [],
   "source": [
    "#Coder ici\n",
    "\n",
    "\n",
    "\n",
    "\n",
    "\n"
   ]
  },
  {
   "cell_type": "markdown",
   "metadata": {},
   "source": [
    "**Analyse le signal mélangé : $y_{add}$**\n",
    "- Représenter graphiquement le signal $y_{add}$ dans le temps puis son spectre (TF) **centré à $0$**\n",
    "- Représenter également son spectrogramme avec : \n",
    "  - la taille de la fenêtre : w = 128\n",
    "  - le pas de temps entre 2 fenêtres : q = w//4  "
   ]
  },
  {
   "cell_type": "code",
   "execution_count": null,
   "metadata": {},
   "outputs": [],
   "source": [
    "#Coder ici\n",
    "\n",
    "\n",
    "\n",
    "\n"
   ]
  },
  {
   "cell_type": "markdown",
   "metadata": {},
   "source": [
    "**Question:** Que constatez-vous ? "
   ]
  },
  {
   "cell_type": "markdown",
   "metadata": {},
   "source": [
    "**Séparation en utilisant des filtres** :\n",
    "On veut ensuite récupérer séparément ces deux sources à partir du signal mélanger en utilisant les filtres féquentielles. Pour rappel, on a 4 types de filtres standards :\n",
    "- Filtre passe-bas : https://fr.wikipedia.org/wiki/Filtre_passe-bas\n",
    "- Filtre passe-haut : https://fr.wikipedia.org/wiki/Filtre_passe-haut\n",
    "- Filtre passe-bande : https://fr.wikipedia.org/wiki/Filtre_passe-bande\n",
    "- Filtre coupe-bande : https://fr.wikipedia.org/wiki/Filtre_coupe-bande\n",
    "\n",
    "\n",
    "**Instruction** : dans le fichier $utils.py$, implémentez ces 4 filtres:\n",
    "\n",
    "- une fonction $low\\_pass$ qui prend comme entrées un signal dans le domaine de fréquence, son vecteur de fréquence associé, une fréquence de coupure et renvoie comme sortie le signal filtré dans le domaine de fréquence.\n",
    "\n",
    "- une fonction $hig\\_pass$ qui prend comme entrées un signal dans le domaine de fréquence, son vecteur de fréquence associé, une fréquence de coupure et renvoie comme sortie le signal filtré dans le domaine de fréquence.\n",
    "\n",
    "- une fonction $band\\_pass$ qui prend comme entrées un signal dans le domaine de fréquence, son vecteur de fréquence associé, deux fréquences de coupure et renvoie comme sortie le signal filtré dans le domaine de fréquence.\n",
    "\n",
    "- une fonction $band\\_stop$ qui prend comme entrées un signal dans le domaine de fréquence, son vecteur de fréquence associé, deux fréquences de coupure et renvoie comme sortie le signal filtré dans le domaine de fréquence."
   ]
  },
  {
   "cell_type": "markdown",
   "metadata": {},
   "source": [
    "#### 3.2.1 Estimer première source (bird) :\n",
    "**Instruction** : \n",
    "- Proposer une solution pour estimer la première source (récuppérer le spectre de la première source)\n",
    "- Représenter (Dessiner) le spectre de la source estimée et le spectre de la vraie source"
   ]
  },
  {
   "cell_type": "code",
   "execution_count": null,
   "metadata": {},
   "outputs": [],
   "source": [
    "#Coder ici\n",
    "\n",
    "\n",
    "\n",
    "\n"
   ]
  },
  {
   "cell_type": "markdown",
   "metadata": {},
   "source": [
    "**Instruction :**  Donner le vecteur qui représente les amplitudes dans le temps de la source estimée. Puis l'écouter."
   ]
  },
  {
   "cell_type": "code",
   "execution_count": null,
   "metadata": {},
   "outputs": [],
   "source": [
    "# Coder ici\n",
    "\n"
   ]
  },
  {
   "cell_type": "markdown",
   "metadata": {},
   "source": [
    "**Instruction :**  Écouter la vrai source  pour comparer."
   ]
  },
  {
   "cell_type": "code",
   "execution_count": null,
   "metadata": {},
   "outputs": [],
   "source": [
    "# Coder ici\n",
    "\n"
   ]
  },
  {
   "cell_type": "markdown",
   "metadata": {},
   "source": [
    "**Instruction :** Dessiner **(dans le temps)** sur la même figure la source initiale et la source estimée en utilisant un vecteur $t$ pour le temps."
   ]
  },
  {
   "cell_type": "code",
   "execution_count": null,
   "metadata": {},
   "outputs": [],
   "source": [
    "# Coder ici\n",
    "\n",
    "\n"
   ]
  },
  {
   "cell_type": "markdown",
   "metadata": {},
   "source": [
    "**Instruction:** Représenter également leurs spectrogrammes avec : \n",
    "  - la taille de la fenêtre : w = 256\n",
    "  - le pas de temps entre 2 fenêtres : q = w//8  "
   ]
  },
  {
   "cell_type": "code",
   "execution_count": null,
   "metadata": {},
   "outputs": [],
   "source": [
    "#Coder ici \n",
    "\n",
    "\n",
    "\n",
    "\n",
    "\n"
   ]
  },
  {
   "cell_type": "markdown",
   "metadata": {},
   "source": [
    "#### 3.2.2 Estimer la seconde source : glockenspiel\n",
    "\n",
    "Traiter avec les mêmes questions de la partie 3.2.1"
   ]
  },
  {
   "cell_type": "code",
   "execution_count": null,
   "metadata": {},
   "outputs": [],
   "source": [
    "#Coder ici\n",
    "\n"
   ]
  },
  {
   "cell_type": "code",
   "execution_count": null,
   "metadata": {},
   "outputs": [],
   "source": [
    "#Coder ici\n",
    "\n"
   ]
  },
  {
   "cell_type": "code",
   "execution_count": null,
   "metadata": {},
   "outputs": [],
   "source": [
    "#Coder ici\n",
    "\n"
   ]
  },
  {
   "cell_type": "code",
   "execution_count": null,
   "metadata": {},
   "outputs": [],
   "source": [
    "#Coder ici\n",
    "\n"
   ]
  },
  {
   "cell_type": "code",
   "execution_count": null,
   "metadata": {},
   "outputs": [],
   "source": [
    "#Coder ici\n",
    "\n"
   ]
  }
 ],
 "metadata": {
  "kernelspec": {
   "display_name": "Python 3 (ipykernel)",
   "language": "python",
   "name": "python3"
  },
  "language_info": {
   "codemirror_mode": {
    "name": "ipython",
    "version": 3
   },
   "file_extension": ".py",
   "mimetype": "text/x-python",
   "name": "python",
   "nbconvert_exporter": "python",
   "pygments_lexer": "ipython3",
   "version": "3.9.13"
  }
 },
 "nbformat": 4,
 "nbformat_minor": 4
}
